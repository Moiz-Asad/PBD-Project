{
 "cells": [
  {
   "cell_type": "code",
   "execution_count": 6,
   "metadata": {},
   "outputs": [],
   "source": [
    "import numpy as np\n",
    "import pandas as pd\n",
    "import matplotlib.pyplot as plt\n",
    "import seaborn as sns\n",
    "%matplotlib inline"
   ]
  },
  {
   "cell_type": "code",
   "execution_count": 7,
   "metadata": {},
   "outputs": [],
   "source": [
    "fileName=\"COVID_FINAL_DATA.csv\"\n",
    "data=pd.read_csv(fileName)"
   ]
  },
  {
   "cell_type": "code",
   "execution_count": 8,
   "metadata": {},
   "outputs": [
    {
     "data": {
      "text/html": [
       "<div>\n",
       "<style scoped>\n",
       "    .dataframe tbody tr th:only-of-type {\n",
       "        vertical-align: middle;\n",
       "    }\n",
       "\n",
       "    .dataframe tbody tr th {\n",
       "        vertical-align: top;\n",
       "    }\n",
       "\n",
       "    .dataframe thead th {\n",
       "        text-align: right;\n",
       "    }\n",
       "</style>\n",
       "<table border=\"1\" class=\"dataframe\">\n",
       "  <thead>\n",
       "    <tr style=\"text-align: right;\">\n",
       "      <th></th>\n",
       "      <th>Unnamed: 0</th>\n",
       "      <th>Cumulative</th>\n",
       "      <th>Cumulative  Test positive</th>\n",
       "      <th>Cumulative  tests performed</th>\n",
       "      <th>Date</th>\n",
       "      <th>Discharged</th>\n",
       "      <th>Expired</th>\n",
       "      <th>Home Quarantine</th>\n",
       "      <th>New  (last 24 hrs)</th>\n",
       "      <th>Region</th>\n",
       "      <th>Still admitted</th>\n",
       "      <th>Tests  performed in last 24 hours</th>\n",
       "    </tr>\n",
       "  </thead>\n",
       "  <tbody>\n",
       "    <tr>\n",
       "      <th>0</th>\n",
       "      <td>4</td>\n",
       "      <td>48</td>\n",
       "      <td>2</td>\n",
       "      <td>80</td>\n",
       "      <td>3/11/2020</td>\n",
       "      <td>0</td>\n",
       "      <td>0</td>\n",
       "      <td>NaN</td>\n",
       "      <td>3</td>\n",
       "      <td>ICT</td>\n",
       "      <td>2</td>\n",
       "      <td>8</td>\n",
       "    </tr>\n",
       "    <tr>\n",
       "      <th>1</th>\n",
       "      <td>5</td>\n",
       "      <td>61</td>\n",
       "      <td>0</td>\n",
       "      <td>95</td>\n",
       "      <td>3/11/2020</td>\n",
       "      <td>0</td>\n",
       "      <td>0</td>\n",
       "      <td>NaN</td>\n",
       "      <td>6</td>\n",
       "      <td>Punjab</td>\n",
       "      <td>0</td>\n",
       "      <td>7</td>\n",
       "    </tr>\n",
       "    <tr>\n",
       "      <th>2</th>\n",
       "      <td>6</td>\n",
       "      <td>84</td>\n",
       "      <td>14</td>\n",
       "      <td>171</td>\n",
       "      <td>3/11/2020</td>\n",
       "      <td>1</td>\n",
       "      <td>0</td>\n",
       "      <td>NaN</td>\n",
       "      <td>1</td>\n",
       "      <td>Sindh</td>\n",
       "      <td>13</td>\n",
       "      <td>55</td>\n",
       "    </tr>\n",
       "    <tr>\n",
       "      <th>3</th>\n",
       "      <td>7</td>\n",
       "      <td>20</td>\n",
       "      <td>0</td>\n",
       "      <td>28</td>\n",
       "      <td>3/11/2020</td>\n",
       "      <td>0</td>\n",
       "      <td>0</td>\n",
       "      <td>NaN</td>\n",
       "      <td>0</td>\n",
       "      <td>KP</td>\n",
       "      <td>0</td>\n",
       "      <td>2</td>\n",
       "    </tr>\n",
       "    <tr>\n",
       "      <th>4</th>\n",
       "      <td>8</td>\n",
       "      <td>3</td>\n",
       "      <td>0</td>\n",
       "      <td>0</td>\n",
       "      <td>3/11/2020</td>\n",
       "      <td>0</td>\n",
       "      <td>0</td>\n",
       "      <td>NaN</td>\n",
       "      <td>0</td>\n",
       "      <td>KPTD</td>\n",
       "      <td>0</td>\n",
       "      <td>0</td>\n",
       "    </tr>\n",
       "    <tr>\n",
       "      <th>5</th>\n",
       "      <td>9</td>\n",
       "      <td>19</td>\n",
       "      <td>1</td>\n",
       "      <td>18</td>\n",
       "      <td>3/11/2020</td>\n",
       "      <td>0</td>\n",
       "      <td>0</td>\n",
       "      <td>NaN</td>\n",
       "      <td>4</td>\n",
       "      <td>Balochistan</td>\n",
       "      <td>1</td>\n",
       "      <td>4</td>\n",
       "    </tr>\n",
       "    <tr>\n",
       "      <th>6</th>\n",
       "      <td>10</td>\n",
       "      <td>3</td>\n",
       "      <td>0</td>\n",
       "      <td>4</td>\n",
       "      <td>3/11/2020</td>\n",
       "      <td>0</td>\n",
       "      <td>0</td>\n",
       "      <td>NaN</td>\n",
       "      <td>0</td>\n",
       "      <td>AJK</td>\n",
       "      <td>0</td>\n",
       "      <td>0</td>\n",
       "    </tr>\n",
       "    <tr>\n",
       "      <th>7</th>\n",
       "      <td>11</td>\n",
       "      <td>10</td>\n",
       "      <td>2</td>\n",
       "      <td>26</td>\n",
       "      <td>3/11/2020</td>\n",
       "      <td>0</td>\n",
       "      <td>0</td>\n",
       "      <td>NaN</td>\n",
       "      <td>0</td>\n",
       "      <td>GB</td>\n",
       "      <td>2</td>\n",
       "      <td>4</td>\n",
       "    </tr>\n",
       "    <tr>\n",
       "      <th>8</th>\n",
       "      <td>4</td>\n",
       "      <td>52</td>\n",
       "      <td>2</td>\n",
       "      <td>85</td>\n",
       "      <td>3/12/2020</td>\n",
       "      <td>0</td>\n",
       "      <td>0</td>\n",
       "      <td>NaN</td>\n",
       "      <td>4</td>\n",
       "      <td>ICT</td>\n",
       "      <td>2</td>\n",
       "      <td>5</td>\n",
       "    </tr>\n",
       "    <tr>\n",
       "      <th>9</th>\n",
       "      <td>5</td>\n",
       "      <td>67</td>\n",
       "      <td>0</td>\n",
       "      <td>105</td>\n",
       "      <td>3/12/2020</td>\n",
       "      <td>0</td>\n",
       "      <td>0</td>\n",
       "      <td>NaN</td>\n",
       "      <td>6</td>\n",
       "      <td>Punjab</td>\n",
       "      <td>0</td>\n",
       "      <td>10</td>\n",
       "    </tr>\n",
       "    <tr>\n",
       "      <th>10</th>\n",
       "      <td>6</td>\n",
       "      <td>89</td>\n",
       "      <td>14</td>\n",
       "      <td>198</td>\n",
       "      <td>3/12/2020</td>\n",
       "      <td>2</td>\n",
       "      <td>0</td>\n",
       "      <td>NaN</td>\n",
       "      <td>5</td>\n",
       "      <td>Sindh</td>\n",
       "      <td>12</td>\n",
       "      <td>27</td>\n",
       "    </tr>\n",
       "    <tr>\n",
       "      <th>11</th>\n",
       "      <td>7</td>\n",
       "      <td>24</td>\n",
       "      <td>0</td>\n",
       "      <td>29</td>\n",
       "      <td>3/12/2020</td>\n",
       "      <td>0</td>\n",
       "      <td>0</td>\n",
       "      <td>NaN</td>\n",
       "      <td>4</td>\n",
       "      <td>KP</td>\n",
       "      <td>0</td>\n",
       "      <td>1</td>\n",
       "    </tr>\n",
       "    <tr>\n",
       "      <th>12</th>\n",
       "      <td>8</td>\n",
       "      <td>3</td>\n",
       "      <td>0</td>\n",
       "      <td>0</td>\n",
       "      <td>3/12/2020</td>\n",
       "      <td>0</td>\n",
       "      <td>0</td>\n",
       "      <td>NaN</td>\n",
       "      <td>0</td>\n",
       "      <td>KPTD</td>\n",
       "      <td>0</td>\n",
       "      <td>0</td>\n",
       "    </tr>\n",
       "    <tr>\n",
       "      <th>13</th>\n",
       "      <td>9</td>\n",
       "      <td>23</td>\n",
       "      <td>1</td>\n",
       "      <td>18</td>\n",
       "      <td>3/12/2020</td>\n",
       "      <td>0</td>\n",
       "      <td>0</td>\n",
       "      <td>NaN</td>\n",
       "      <td>4</td>\n",
       "      <td>Balochistan</td>\n",
       "      <td>1</td>\n",
       "      <td>4</td>\n",
       "    </tr>\n",
       "    <tr>\n",
       "      <th>14</th>\n",
       "      <td>10</td>\n",
       "      <td>3</td>\n",
       "      <td>0</td>\n",
       "      <td>8</td>\n",
       "      <td>3/12/2020</td>\n",
       "      <td>0</td>\n",
       "      <td>0</td>\n",
       "      <td>NaN</td>\n",
       "      <td>0</td>\n",
       "      <td>AJK</td>\n",
       "      <td>0</td>\n",
       "      <td>4</td>\n",
       "    </tr>\n",
       "  </tbody>\n",
       "</table>\n",
       "</div>"
      ],
      "text/plain": [
       "    Unnamed: 0  Cumulative  Cumulative  Test positive  \\\n",
       "0            4          48                          2   \n",
       "1            5          61                          0   \n",
       "2            6          84                         14   \n",
       "3            7          20                          0   \n",
       "4            8           3                          0   \n",
       "5            9          19                          1   \n",
       "6           10           3                          0   \n",
       "7           11          10                          2   \n",
       "8            4          52                          2   \n",
       "9            5          67                          0   \n",
       "10           6          89                         14   \n",
       "11           7          24                          0   \n",
       "12           8           3                          0   \n",
       "13           9          23                          1   \n",
       "14          10           3                          0   \n",
       "\n",
       "    Cumulative  tests performed       Date  Discharged  Expired  \\\n",
       "0                            80  3/11/2020           0        0   \n",
       "1                            95  3/11/2020           0        0   \n",
       "2                           171  3/11/2020           1        0   \n",
       "3                            28  3/11/2020           0        0   \n",
       "4                             0  3/11/2020           0        0   \n",
       "5                            18  3/11/2020           0        0   \n",
       "6                             4  3/11/2020           0        0   \n",
       "7                            26  3/11/2020           0        0   \n",
       "8                            85  3/12/2020           0        0   \n",
       "9                           105  3/12/2020           0        0   \n",
       "10                          198  3/12/2020           2        0   \n",
       "11                           29  3/12/2020           0        0   \n",
       "12                            0  3/12/2020           0        0   \n",
       "13                           18  3/12/2020           0        0   \n",
       "14                            8  3/12/2020           0        0   \n",
       "\n",
       "    Home Quarantine  New  (last 24 hrs)       Region  Still admitted  \\\n",
       "0               NaN                   3          ICT               2   \n",
       "1               NaN                   6       Punjab               0   \n",
       "2               NaN                   1        Sindh              13   \n",
       "3               NaN                   0           KP               0   \n",
       "4               NaN                   0         KPTD               0   \n",
       "5               NaN                   4  Balochistan               1   \n",
       "6               NaN                   0          AJK               0   \n",
       "7               NaN                   0           GB               2   \n",
       "8               NaN                   4          ICT               2   \n",
       "9               NaN                   6       Punjab               0   \n",
       "10              NaN                   5        Sindh              12   \n",
       "11              NaN                   4           KP               0   \n",
       "12              NaN                   0         KPTD               0   \n",
       "13              NaN                   4  Balochistan               1   \n",
       "14              NaN                   0          AJK               0   \n",
       "\n",
       "   Tests  performed in last 24 hours  \n",
       "0                                  8  \n",
       "1                                  7  \n",
       "2                                 55  \n",
       "3                                  2  \n",
       "4                                  0  \n",
       "5                                  4  \n",
       "6                                  0  \n",
       "7                                  4  \n",
       "8                                  5  \n",
       "9                                 10  \n",
       "10                                27  \n",
       "11                                 1  \n",
       "12                                 0  \n",
       "13                                 4  \n",
       "14                                 4  "
      ]
     },
     "execution_count": 8,
     "metadata": {},
     "output_type": "execute_result"
    }
   ],
   "source": [
    "data.head(15)"
   ]
  },
  {
   "cell_type": "code",
   "execution_count": 9,
   "metadata": {},
   "outputs": [
    {
     "data": {
      "text/html": [
       "<div>\n",
       "<style scoped>\n",
       "    .dataframe tbody tr th:only-of-type {\n",
       "        vertical-align: middle;\n",
       "    }\n",
       "\n",
       "    .dataframe tbody tr th {\n",
       "        vertical-align: top;\n",
       "    }\n",
       "\n",
       "    .dataframe thead th {\n",
       "        text-align: right;\n",
       "    }\n",
       "</style>\n",
       "<table border=\"1\" class=\"dataframe\">\n",
       "  <thead>\n",
       "    <tr style=\"text-align: right;\">\n",
       "      <th></th>\n",
       "      <th>Unnamed: 0</th>\n",
       "      <th>Cumulative</th>\n",
       "      <th>Cumulative  Test positive</th>\n",
       "      <th>Cumulative  tests performed</th>\n",
       "      <th>Date</th>\n",
       "      <th>Discharged</th>\n",
       "      <th>Expired</th>\n",
       "      <th>Home Quarantine</th>\n",
       "      <th>New  (last 24 hrs)</th>\n",
       "      <th>Region</th>\n",
       "      <th>Still admitted</th>\n",
       "      <th>Tests  performed in last 24 hours</th>\n",
       "    </tr>\n",
       "  </thead>\n",
       "  <tbody>\n",
       "    <tr>\n",
       "      <th>0</th>\n",
       "      <td>4</td>\n",
       "      <td>48</td>\n",
       "      <td>2</td>\n",
       "      <td>80</td>\n",
       "      <td>3/11/2020</td>\n",
       "      <td>0</td>\n",
       "      <td>0</td>\n",
       "      <td>NaN</td>\n",
       "      <td>3</td>\n",
       "      <td>ICT</td>\n",
       "      <td>2</td>\n",
       "      <td>8</td>\n",
       "    </tr>\n",
       "    <tr>\n",
       "      <th>1</th>\n",
       "      <td>5</td>\n",
       "      <td>61</td>\n",
       "      <td>0</td>\n",
       "      <td>95</td>\n",
       "      <td>3/11/2020</td>\n",
       "      <td>0</td>\n",
       "      <td>0</td>\n",
       "      <td>NaN</td>\n",
       "      <td>6</td>\n",
       "      <td>Punjab</td>\n",
       "      <td>0</td>\n",
       "      <td>7</td>\n",
       "    </tr>\n",
       "    <tr>\n",
       "      <th>2</th>\n",
       "      <td>6</td>\n",
       "      <td>84</td>\n",
       "      <td>14</td>\n",
       "      <td>171</td>\n",
       "      <td>3/11/2020</td>\n",
       "      <td>1</td>\n",
       "      <td>0</td>\n",
       "      <td>NaN</td>\n",
       "      <td>1</td>\n",
       "      <td>Sindh</td>\n",
       "      <td>13</td>\n",
       "      <td>55</td>\n",
       "    </tr>\n",
       "    <tr>\n",
       "      <th>3</th>\n",
       "      <td>7</td>\n",
       "      <td>20</td>\n",
       "      <td>0</td>\n",
       "      <td>28</td>\n",
       "      <td>3/11/2020</td>\n",
       "      <td>0</td>\n",
       "      <td>0</td>\n",
       "      <td>NaN</td>\n",
       "      <td>0</td>\n",
       "      <td>KP</td>\n",
       "      <td>0</td>\n",
       "      <td>2</td>\n",
       "    </tr>\n",
       "    <tr>\n",
       "      <th>4</th>\n",
       "      <td>8</td>\n",
       "      <td>3</td>\n",
       "      <td>0</td>\n",
       "      <td>0</td>\n",
       "      <td>3/11/2020</td>\n",
       "      <td>0</td>\n",
       "      <td>0</td>\n",
       "      <td>NaN</td>\n",
       "      <td>0</td>\n",
       "      <td>KPTD</td>\n",
       "      <td>0</td>\n",
       "      <td>0</td>\n",
       "    </tr>\n",
       "    <tr>\n",
       "      <th>...</th>\n",
       "      <td>...</td>\n",
       "      <td>...</td>\n",
       "      <td>...</td>\n",
       "      <td>...</td>\n",
       "      <td>...</td>\n",
       "      <td>...</td>\n",
       "      <td>...</td>\n",
       "      <td>...</td>\n",
       "      <td>...</td>\n",
       "      <td>...</td>\n",
       "      <td>...</td>\n",
       "      <td>...</td>\n",
       "    </tr>\n",
       "    <tr>\n",
       "      <th>638</th>\n",
       "      <td>8</td>\n",
       "      <td>10465</td>\n",
       "      <td>1030</td>\n",
       "      <td>10769</td>\n",
       "      <td>6/12/2020</td>\n",
       "      <td>673</td>\n",
       "      <td>15</td>\n",
       "      <td>294.0</td>\n",
       "      <td>76</td>\n",
       "      <td>GB</td>\n",
       "      <td>48</td>\n",
       "      <td>119</td>\n",
       "    </tr>\n",
       "    <tr>\n",
       "      <th>639</th>\n",
       "      <td>9</td>\n",
       "      <td>69806</td>\n",
       "      <td>6699</td>\n",
       "      <td>69806</td>\n",
       "      <td>6/12/2020</td>\n",
       "      <td>1164</td>\n",
       "      <td>65</td>\n",
       "      <td>5395.0</td>\n",
       "      <td>3766</td>\n",
       "      <td>ICT</td>\n",
       "      <td>75</td>\n",
       "      <td>3766</td>\n",
       "    </tr>\n",
       "    <tr>\n",
       "      <th>640</th>\n",
       "      <td>10</td>\n",
       "      <td>76035</td>\n",
       "      <td>15787</td>\n",
       "      <td>90470</td>\n",
       "      <td>6/12/2020</td>\n",
       "      <td>3907</td>\n",
       "      <td>632</td>\n",
       "      <td>10222.0</td>\n",
       "      <td>2398</td>\n",
       "      <td>KP</td>\n",
       "      <td>1026</td>\n",
       "      <td>3571</td>\n",
       "    </tr>\n",
       "    <tr>\n",
       "      <th>641</th>\n",
       "      <td>11</td>\n",
       "      <td>325091</td>\n",
       "      <td>47382</td>\n",
       "      <td>327072</td>\n",
       "      <td>6/12/2020</td>\n",
       "      <td>9546</td>\n",
       "      <td>890</td>\n",
       "      <td>34520.0</td>\n",
       "      <td>10116</td>\n",
       "      <td>Punjab</td>\n",
       "      <td>2426</td>\n",
       "      <td>9179</td>\n",
       "    </tr>\n",
       "    <tr>\n",
       "      <th>642</th>\n",
       "      <td>13</td>\n",
       "      <td>265698</td>\n",
       "      <td>46828</td>\n",
       "      <td>265698</td>\n",
       "      <td>6/12/2020</td>\n",
       "      <td>22047</td>\n",
       "      <td>776</td>\n",
       "      <td>22324.0</td>\n",
       "      <td>10081</td>\n",
       "      <td>Sindh</td>\n",
       "      <td>1681</td>\n",
       "      <td>10081</td>\n",
       "    </tr>\n",
       "  </tbody>\n",
       "</table>\n",
       "<p>643 rows × 12 columns</p>\n",
       "</div>"
      ],
      "text/plain": [
       "     Unnamed: 0  Cumulative  Cumulative  Test positive  \\\n",
       "0             4          48                          2   \n",
       "1             5          61                          0   \n",
       "2             6          84                         14   \n",
       "3             7          20                          0   \n",
       "4             8           3                          0   \n",
       "..          ...         ...                        ...   \n",
       "638           8       10465                       1030   \n",
       "639           9       69806                       6699   \n",
       "640          10       76035                      15787   \n",
       "641          11      325091                      47382   \n",
       "642          13      265698                      46828   \n",
       "\n",
       "     Cumulative  tests performed       Date  Discharged  Expired  \\\n",
       "0                             80  3/11/2020           0        0   \n",
       "1                             95  3/11/2020           0        0   \n",
       "2                            171  3/11/2020           1        0   \n",
       "3                             28  3/11/2020           0        0   \n",
       "4                              0  3/11/2020           0        0   \n",
       "..                           ...        ...         ...      ...   \n",
       "638                        10769  6/12/2020         673       15   \n",
       "639                        69806  6/12/2020        1164       65   \n",
       "640                        90470  6/12/2020        3907      632   \n",
       "641                       327072  6/12/2020        9546      890   \n",
       "642                       265698  6/12/2020       22047      776   \n",
       "\n",
       "     Home Quarantine  New  (last 24 hrs)  Region  Still admitted  \\\n",
       "0                NaN                   3     ICT               2   \n",
       "1                NaN                   6  Punjab               0   \n",
       "2                NaN                   1   Sindh              13   \n",
       "3                NaN                   0      KP               0   \n",
       "4                NaN                   0    KPTD               0   \n",
       "..               ...                 ...     ...             ...   \n",
       "638            294.0                  76      GB              48   \n",
       "639           5395.0                3766     ICT              75   \n",
       "640          10222.0                2398      KP            1026   \n",
       "641          34520.0               10116  Punjab            2426   \n",
       "642          22324.0               10081   Sindh            1681   \n",
       "\n",
       "    Tests  performed in last 24 hours  \n",
       "0                                   8  \n",
       "1                                   7  \n",
       "2                                  55  \n",
       "3                                   2  \n",
       "4                                   0  \n",
       "..                                ...  \n",
       "638                               119  \n",
       "639                              3766  \n",
       "640                              3571  \n",
       "641                              9179  \n",
       "642                             10081  \n",
       "\n",
       "[643 rows x 12 columns]"
      ]
     },
     "execution_count": 9,
     "metadata": {},
     "output_type": "execute_result"
    }
   ],
   "source": [
    "data"
   ]
  },
  {
   "cell_type": "code",
   "execution_count": 10,
   "metadata": {},
   "outputs": [],
   "source": [
    "#Normalization\n",
    "data.replace(\"?\", np.nan, inplace=True)"
   ]
  },
  {
   "cell_type": "code",
   "execution_count": 11,
   "metadata": {},
   "outputs": [],
   "source": [
    "missing_data=data.isnull()"
   ]
  },
  {
   "cell_type": "code",
   "execution_count": 12,
   "metadata": {},
   "outputs": [
    {
     "data": {
      "text/plain": [
       "Unnamed: 0                             0\n",
       "Cumulative                             0\n",
       "Cumulative  Test positive              0\n",
       "Cumulative  tests performed            0\n",
       "Date                                   0\n",
       "Discharged                             0\n",
       "Expired                                0\n",
       "Home Quarantine                      139\n",
       "New  (last 24 hrs)                     0\n",
       "Region                                 0\n",
       "Still admitted                         0\n",
       "Tests  performed in last 24 hours      0\n",
       "dtype: int64"
      ]
     },
     "execution_count": 12,
     "metadata": {},
     "output_type": "execute_result"
    }
   ],
   "source": [
    "missing_data.sum()"
   ]
  },
  {
   "cell_type": "code",
   "execution_count": 13,
   "metadata": {},
   "outputs": [],
   "source": [
    "frequency=data[\"Home Quarantine\"].value_counts().idxmax()"
   ]
  },
  {
   "cell_type": "code",
   "execution_count": 14,
   "metadata": {},
   "outputs": [],
   "source": [
    "data[\"Home Quarantine\"].replace(np.nan,frequency,inplace=True)"
   ]
  },
  {
   "cell_type": "code",
   "execution_count": 15,
   "metadata": {},
   "outputs": [
    {
     "data": {
      "text/plain": [
       "0"
      ]
     },
     "execution_count": 15,
     "metadata": {},
     "output_type": "execute_result"
    }
   ],
   "source": [
    "data[\"Home Quarantine\"].isnull().sum()"
   ]
  },
  {
   "cell_type": "code",
   "execution_count": 16,
   "metadata": {},
   "outputs": [
    {
     "data": {
      "text/plain": [
       "Unnamed: 0                             int64\n",
       "Cumulative                             int64\n",
       "Cumulative  Test positive              int64\n",
       "Cumulative  tests performed            int64\n",
       "Date                                  object\n",
       "Discharged                             int64\n",
       "Expired                                int64\n",
       "Home Quarantine                      float64\n",
       "New  (last 24 hrs)                     int64\n",
       "Region                                object\n",
       "Still admitted                         int64\n",
       "Tests  performed in last 24 hours     object\n",
       "dtype: object"
      ]
     },
     "execution_count": 16,
     "metadata": {},
     "output_type": "execute_result"
    }
   ],
   "source": [
    "# Convert data type to proper format\n",
    "data.dtypes"
   ]
  },
  {
   "cell_type": "code",
   "execution_count": 17,
   "metadata": {},
   "outputs": [],
   "source": [
    "data[\"Home Quarantine\"]=data[\"Home Quarantine\"].astype(\"int64\")"
   ]
  },
  {
   "cell_type": "code",
   "execution_count": 18,
   "metadata": {},
   "outputs": [
    {
     "data": {
      "text/plain": [
       "Unnamed: 0                            int64\n",
       "Cumulative                            int64\n",
       "Cumulative  Test positive             int64\n",
       "Cumulative  tests performed           int64\n",
       "Date                                 object\n",
       "Discharged                            int64\n",
       "Expired                               int64\n",
       "Home Quarantine                       int64\n",
       "New  (last 24 hrs)                    int64\n",
       "Region                               object\n",
       "Still admitted                        int64\n",
       "Tests  performed in last 24 hours    object\n",
       "dtype: object"
      ]
     },
     "execution_count": 18,
     "metadata": {},
     "output_type": "execute_result"
    }
   ],
   "source": [
    "data.dtypes"
   ]
  },
  {
   "cell_type": "code",
   "execution_count": 19,
   "metadata": {},
   "outputs": [
    {
     "data": {
      "text/plain": [
       "<matplotlib.axes._subplots.AxesSubplot at 0x175e6427188>"
      ]
     },
     "execution_count": 19,
     "metadata": {},
     "output_type": "execute_result"
    },
    {
     "data": {
      "image/png": "[encoded data removed]",
      "text/plain": [
       "<Figure size 864x432 with 1 Axes>"
      ]
     },
     "metadata": {
      "needs_background": "light"
     },
     "output_type": "display_data"
    }
   ],
   "source": [
    "# Visualization\n",
    "plt.figure(figsize=(12,6))\n",
    "sns.barplot(x=\"Region\",y=\"Cumulative  Test positive\",data = data)"
   ]
  },
  {
   "cell_type": "code",
   "execution_count": 20,
   "metadata": {},
   "outputs": [
    {
     "data": {
      "text/plain": [
       "<matplotlib.axes._subplots.AxesSubplot at 0x175e645a948>"
      ]
     },
     "execution_count": 20,
     "metadata": {},
     "output_type": "execute_result"
    },
    {
     "data": {
      "image/png": "[encoded data removed]",
      "text/plain": [
       "<Figure size 864x432 with 1 Axes>"
      ]
     },
     "metadata": {
      "needs_background": "light"
     },
     "output_type": "display_data"
    }
   ],
   "source": [
    "# Graph between Region and No of Discharged People\n",
    "plt.figure(figsize=(12,6))\n",
    "sns.barplot(x=\"Region\",y=\"Discharged\",data = data)"
   ]
  },
  {
   "cell_type": "code",
   "execution_count": 21,
   "metadata": {},
   "outputs": [
    {
     "data": {
      "text/plain": [
       "<matplotlib.axes._subplots.AxesSubplot at 0x175e6d6a6c8>"
      ]
     },
     "execution_count": 21,
     "metadata": {},
     "output_type": "execute_result"
    },
    {
     "data": {
      "image/png": "[encoded data removed]",
      "text/plain": [
       "<Figure size 864x432 with 1 Axes>"
      ]
     },
     "metadata": {
      "needs_background": "light"
     },
     "output_type": "display_data"
    }
   ],
   "source": [
    "# raph between Region and No of People Expired \n",
    "plt.figure(figsize=(12,6))\n",
    "sns.barplot(x=\"Region\",y=\"Expired\",data = data)"
   ]
  },
  {
   "cell_type": "code",
   "execution_count": 22,
   "metadata": {},
   "outputs": [
    {
     "data": {
      "text/plain": [
       "<matplotlib.axes._subplots.AxesSubplot at 0x175e6ce7388>"
      ]
     },
     "execution_count": 22,
     "metadata": {},
     "output_type": "execute_result"
    },
    {
     "data": {
      "image/png": "[encoded data removed]",
      "text/plain": [
       "<Figure size 864x432 with 1 Axes>"
      ]
     },
     "metadata": {
      "needs_background": "light"
     },
     "output_type": "display_data"
    }
   ],
   "source": [
    "plt.figure(figsize=(12,6))\n",
    "sns.barplot(x=\"Region\",y=\"Home Quarantine\",data = data)"
   ]
  },
  {
   "cell_type": "code",
   "execution_count": 23,
   "metadata": {},
   "outputs": [
    {
     "data": {
      "text/plain": [
       "<matplotlib.axes._subplots.AxesSubplot at 0x175e6ffaf48>"
      ]
     },
     "execution_count": 23,
     "metadata": {},
     "output_type": "execute_result"
    },
    {
     "data": {
      "image/png": "[encoded data removed]",
      "text/plain": [
       "<Figure size 432x288 with 1 Axes>"
      ]
     },
     "metadata": {
      "needs_background": "light"
     },
     "output_type": "display_data"
    }
   ],
   "source": [
    "sns.distplot(data[\"Expired\"])"
   ]
  },
  {
   "cell_type": "code",
   "execution_count": 24,
   "metadata": {},
   "outputs": [
    {
     "data": {
      "text/plain": [
       "<matplotlib.axes._subplots.AxesSubplot at 0x175e71f3408>"
      ]
     },
     "execution_count": 24,
     "metadata": {},
     "output_type": "execute_result"
    },
    {
     "data": {
      "image/png": "[encoded data removed]",
      "text/plain": [
       "<Figure size 432x288 with 2 Axes>"
      ]
     },
     "metadata": {
      "needs_background": "light"
     },
     "output_type": "display_data"
    }
   ],
   "source": [
    "sns.heatmap(data.corr(),annot=True)"
   ]
  },
  {
   "cell_type": "code",
   "execution_count": 25,
   "metadata": {},
   "outputs": [],
   "source": [
    "X = data[[\"Cumulative  tests performed\",\"Cumulative  Test positive\",\"Discharged\",\"Home Quarantine\"]]"
   ]
  },
  {
   "cell_type": "code",
   "execution_count": 26,
   "metadata": {},
   "outputs": [],
   "source": [
    "Y = data[[\"Expired\"]]"
   ]
  },
  {
   "cell_type": "code",
   "execution_count": 27,
   "metadata": {},
   "outputs": [],
   "source": [
    "from sklearn.model_selection import train_test_split"
   ]
  },
  {
   "cell_type": "code",
   "execution_count": 28,
   "metadata": {},
   "outputs": [],
   "source": [
    "x_train,x_test,y_train,y_test = train_test_split(X,Y,test_size = 0.3,random_state = 40)"
   ]
  },
  {
   "cell_type": "code",
   "execution_count": 29,
   "metadata": {},
   "outputs": [
    {
     "data": {
      "text/html": [
       "<div>\n",
       "<style scoped>\n",
       "    .dataframe tbody tr th:only-of-type {\n",
       "        vertical-align: middle;\n",
       "    }\n",
       "\n",
       "    .dataframe tbody tr th {\n",
       "        vertical-align: top;\n",
       "    }\n",
       "\n",
       "    .dataframe thead th {\n",
       "        text-align: right;\n",
       "    }\n",
       "</style>\n",
       "<table border=\"1\" class=\"dataframe\">\n",
       "  <thead>\n",
       "    <tr style=\"text-align: right;\">\n",
       "      <th></th>\n",
       "      <th>Cumulative  tests performed</th>\n",
       "      <th>Cumulative  Test positive</th>\n",
       "      <th>Discharged</th>\n",
       "      <th>Home Quarantine</th>\n",
       "    </tr>\n",
       "  </thead>\n",
       "  <tbody>\n",
       "    <tr>\n",
       "      <th>133</th>\n",
       "      <td>3310</td>\n",
       "      <td>490</td>\n",
       "      <td>4</td>\n",
       "      <td>0</td>\n",
       "    </tr>\n",
       "    <tr>\n",
       "      <th>243</th>\n",
       "      <td>12740</td>\n",
       "      <td>1318</td>\n",
       "      <td>371</td>\n",
       "      <td>576</td>\n",
       "    </tr>\n",
       "    <tr>\n",
       "      <th>499</th>\n",
       "      <td>29033</td>\n",
       "      <td>1138</td>\n",
       "      <td>151</td>\n",
       "      <td>948</td>\n",
       "    </tr>\n",
       "    <tr>\n",
       "      <th>434</th>\n",
       "      <td>14687</td>\n",
       "      <td>2017</td>\n",
       "      <td>242</td>\n",
       "      <td>1721</td>\n",
       "    </tr>\n",
       "    <tr>\n",
       "      <th>556</th>\n",
       "      <td>54801</td>\n",
       "      <td>8483</td>\n",
       "      <td>2632</td>\n",
       "      <td>5030</td>\n",
       "    </tr>\n",
       "    <tr>\n",
       "      <th>...</th>\n",
       "      <td>...</td>\n",
       "      <td>...</td>\n",
       "      <td>...</td>\n",
       "      <td>...</td>\n",
       "    </tr>\n",
       "    <tr>\n",
       "      <th>440</th>\n",
       "      <td>2935</td>\n",
       "      <td>86</td>\n",
       "      <td>0</td>\n",
       "      <td>0</td>\n",
       "    </tr>\n",
       "    <tr>\n",
       "      <th>165</th>\n",
       "      <td>239</td>\n",
       "      <td>6</td>\n",
       "      <td>0</td>\n",
       "      <td>0</td>\n",
       "    </tr>\n",
       "    <tr>\n",
       "      <th>7</th>\n",
       "      <td>26</td>\n",
       "      <td>2</td>\n",
       "      <td>0</td>\n",
       "      <td>0</td>\n",
       "    </tr>\n",
       "    <tr>\n",
       "      <th>219</th>\n",
       "      <td>3233</td>\n",
       "      <td>102</td>\n",
       "      <td>10</td>\n",
       "      <td>80</td>\n",
       "    </tr>\n",
       "    <tr>\n",
       "      <th>326</th>\n",
       "      <td>69971</td>\n",
       "      <td>5046</td>\n",
       "      <td>2577</td>\n",
       "      <td>20</td>\n",
       "    </tr>\n",
       "  </tbody>\n",
       "</table>\n",
       "<p>450 rows × 4 columns</p>\n",
       "</div>"
      ],
      "text/plain": [
       "     Cumulative  tests performed  Cumulative  Test positive  Discharged  \\\n",
       "133                         3310                        490           4   \n",
       "243                        12740                       1318         371   \n",
       "499                        29033                       1138         151   \n",
       "434                        14687                       2017         242   \n",
       "556                        54801                       8483        2632   \n",
       "..                           ...                        ...         ...   \n",
       "440                         2935                         86           0   \n",
       "165                          239                          6           0   \n",
       "7                             26                          2           0   \n",
       "219                         3233                        102          10   \n",
       "326                        69971                       5046        2577   \n",
       "\n",
       "     Home Quarantine  \n",
       "133                0  \n",
       "243              576  \n",
       "499              948  \n",
       "434             1721  \n",
       "556             5030  \n",
       "..               ...  \n",
       "440                0  \n",
       "165                0  \n",
       "7                  0  \n",
       "219               80  \n",
       "326               20  \n",
       "\n",
       "[450 rows x 4 columns]"
      ]
     },
     "execution_count": 29,
     "metadata": {},
     "output_type": "execute_result"
    }
   ],
   "source": [
    "x_train"
   ]
  },
  {
   "cell_type": "code",
   "execution_count": 30,
   "metadata": {},
   "outputs": [
    {
     "data": {
      "text/html": [
       "<div>\n",
       "<style scoped>\n",
       "    .dataframe tbody tr th:only-of-type {\n",
       "        vertical-align: middle;\n",
       "    }\n",
       "\n",
       "    .dataframe tbody tr th {\n",
       "        vertical-align: top;\n",
       "    }\n",
       "\n",
       "    .dataframe thead th {\n",
       "        text-align: right;\n",
       "    }\n",
       "</style>\n",
       "<table border=\"1\" class=\"dataframe\">\n",
       "  <thead>\n",
       "    <tr style=\"text-align: right;\">\n",
       "      <th></th>\n",
       "      <th>Cumulative  tests performed</th>\n",
       "      <th>Cumulative  Test positive</th>\n",
       "      <th>Discharged</th>\n",
       "      <th>Home Quarantine</th>\n",
       "    </tr>\n",
       "  </thead>\n",
       "  <tbody>\n",
       "    <tr>\n",
       "      <th>304</th>\n",
       "      <td>9360</td>\n",
       "      <td>1276</td>\n",
       "      <td>297</td>\n",
       "      <td>577</td>\n",
       "    </tr>\n",
       "    <tr>\n",
       "      <th>344</th>\n",
       "      <td>3398</td>\n",
       "      <td>318</td>\n",
       "      <td>219</td>\n",
       "      <td>86</td>\n",
       "    </tr>\n",
       "    <tr>\n",
       "      <th>488</th>\n",
       "      <td>122894</td>\n",
       "      <td>16337</td>\n",
       "      <td>4209</td>\n",
       "      <td>10445</td>\n",
       "    </tr>\n",
       "    <tr>\n",
       "      <th>429</th>\n",
       "      <td>18755</td>\n",
       "      <td>641</td>\n",
       "      <td>72</td>\n",
       "      <td>535</td>\n",
       "    </tr>\n",
       "    <tr>\n",
       "      <th>0</th>\n",
       "      <td>80</td>\n",
       "      <td>2</td>\n",
       "      <td>0</td>\n",
       "      <td>0</td>\n",
       "    </tr>\n",
       "    <tr>\n",
       "      <th>...</th>\n",
       "      <td>...</td>\n",
       "      <td>...</td>\n",
       "      <td>...</td>\n",
       "      <td>...</td>\n",
       "    </tr>\n",
       "    <tr>\n",
       "      <th>98</th>\n",
       "      <td>1436</td>\n",
       "      <td>225</td>\n",
       "      <td>0</td>\n",
       "      <td>0</td>\n",
       "    </tr>\n",
       "    <tr>\n",
       "      <th>135</th>\n",
       "      <td>1121</td>\n",
       "      <td>180</td>\n",
       "      <td>2</td>\n",
       "      <td>0</td>\n",
       "    </tr>\n",
       "    <tr>\n",
       "      <th>319</th>\n",
       "      <td>67882</td>\n",
       "      <td>4767</td>\n",
       "      <td>2497</td>\n",
       "      <td>0</td>\n",
       "    </tr>\n",
       "    <tr>\n",
       "      <th>586</th>\n",
       "      <td>180803</td>\n",
       "      <td>28245</td>\n",
       "      <td>13810</td>\n",
       "      <td>12773</td>\n",
       "    </tr>\n",
       "    <tr>\n",
       "      <th>172</th>\n",
       "      <td>249</td>\n",
       "      <td>9</td>\n",
       "      <td>0</td>\n",
       "      <td>0</td>\n",
       "    </tr>\n",
       "  </tbody>\n",
       "</table>\n",
       "<p>193 rows × 4 columns</p>\n",
       "</div>"
      ],
      "text/plain": [
       "     Cumulative  tests performed  Cumulative  Test positive  Discharged  \\\n",
       "304                         9360                       1276         297   \n",
       "344                         3398                        318         219   \n",
       "488                       122894                      16337        4209   \n",
       "429                        18755                        641          72   \n",
       "0                             80                          2           0   \n",
       "..                           ...                        ...         ...   \n",
       "98                          1436                        225           0   \n",
       "135                         1121                        180           2   \n",
       "319                        67882                       4767        2497   \n",
       "586                       180803                      28245       13810   \n",
       "172                          249                          9           0   \n",
       "\n",
       "     Home Quarantine  \n",
       "304              577  \n",
       "344               86  \n",
       "488            10445  \n",
       "429              535  \n",
       "0                  0  \n",
       "..               ...  \n",
       "98                 0  \n",
       "135                0  \n",
       "319                0  \n",
       "586            12773  \n",
       "172                0  \n",
       "\n",
       "[193 rows x 4 columns]"
      ]
     },
     "execution_count": 30,
     "metadata": {},
     "output_type": "execute_result"
    }
   ],
   "source": [
    "x_test"
   ]
  },
  {
   "cell_type": "code",
   "execution_count": 31,
   "metadata": {},
   "outputs": [],
   "source": [
    "from sklearn.linear_model import LinearRegression"
   ]
  },
  {
   "cell_type": "code",
   "execution_count": 32,
   "metadata": {},
   "outputs": [
    {
     "data": {
      "text/plain": [
       "<matplotlib.axes._subplots.AxesSubplot at 0x175e754ac08>"
      ]
     },
     "execution_count": 32,
     "metadata": {},
     "output_type": "execute_result"
    },
    {
     "data": {
      "image/png": "[encoded data removed]",
      "text/plain": [
       "<Figure size 432x288 with 1 Axes>"
      ]
     },
     "metadata": {
      "needs_background": "light"
     },
     "output_type": "display_data"
    }
   ],
   "source": [
    "#Correlation\n",
    "#Positive Correlation\n",
    "sns.regplot(x=\"Cumulative  tests performed\",y=\"Expired\",data=data)"
   ]
  },
  {
   "cell_type": "code",
   "execution_count": 33,
   "metadata": {},
   "outputs": [
    {
     "data": {
      "text/plain": [
       "<matplotlib.axes._subplots.AxesSubplot at 0x175e75a0f88>"
      ]
     },
     "execution_count": 33,
     "metadata": {},
     "output_type": "execute_result"
    },
    {
     "data": {
      "image/png": "[encoded data removed]",
      "text/plain": [
       "<Figure size 432x288 with 1 Axes>"
      ]
     },
     "metadata": {
      "needs_background": "light"
     },
     "output_type": "display_data"
    }
   ],
   "source": [
    "#Positive Correlation\n",
    "sns.regplot(x=\"Cumulative  Test positive\",y=\"Expired\",data=data)"
   ]
  },
  {
   "cell_type": "code",
   "execution_count": 34,
   "metadata": {},
   "outputs": [
    {
     "data": {
      "text/plain": [
       "<matplotlib.axes._subplots.AxesSubplot at 0x175e7602d48>"
      ]
     },
     "execution_count": 34,
     "metadata": {},
     "output_type": "execute_result"
    },
    {
     "data": {
      "image/png": "[encoded data removed]",
      "text/plain": [
       "<Figure size 432x288 with 1 Axes>"
      ]
     },
     "metadata": {
      "needs_background": "light"
     },
     "output_type": "display_data"
    }
   ],
   "source": [
    "sns.regplot(x=\"Home Quarantine\",y=\"Expired\",data=data)"
   ]
  },
  {
   "cell_type": "code",
   "execution_count": 35,
   "metadata": {},
   "outputs": [],
   "source": [
    "#Linear Regression\n",
    "lr=LinearRegression()"
   ]
  },
  {
   "cell_type": "code",
   "execution_count": 36,
   "metadata": {},
   "outputs": [
    {
     "data": {
      "text/plain": [
       "LinearRegression(copy_X=True, fit_intercept=True, n_jobs=None, normalize=False)"
      ]
     },
     "execution_count": 36,
     "metadata": {},
     "output_type": "execute_result"
    }
   ],
   "source": [
    "lr.fit(x_train,y_train)"
   ]
  },
  {
   "cell_type": "code",
   "execution_count": 38,
   "metadata": {},
   "outputs": [],
   "source": [
    "prediction=lr.predict(x_test)"
   ]
  },
  {
   "cell_type": "code",
   "execution_count": 39,
   "metadata": {},
   "outputs": [
    {
     "data": {
      "text/plain": [
       "array([[  41.80228481],\n",
       "       [  13.97560759],\n",
       "       [ 330.84415856],\n",
       "       [  -1.61352091],\n",
       "       [  12.27618082],\n",
       "       [  15.49603139],\n",
       "       [  14.05075946],\n",
       "       [  12.31157286],\n",
       "       [  18.73756282],\n",
       "       [  12.54114731],\n",
       "       [ 358.24946141],\n",
       "       [  13.15602701],\n",
       "       [  43.20192575],\n",
       "       [  26.8358678 ],\n",
       "       [ 267.70666124],\n",
       "       [ 132.68506964],\n",
       "       [  19.48282316],\n",
       "       [  35.79021755],\n",
       "       [  11.41190968],\n",
       "       [ 296.64138701],\n",
       "       [  22.79166337],\n",
       "       [  12.42525555],\n",
       "       [  15.3191625 ],\n",
       "       [  16.06926628],\n",
       "       [  97.54128058],\n",
       "       [   7.8585144 ],\n",
       "       [  47.94380097],\n",
       "       [  12.25242283],\n",
       "       [  24.31415618],\n",
       "       [  12.34832223],\n",
       "       [  13.67765246],\n",
       "       [  98.36320641],\n",
       "       [  12.44164175],\n",
       "       [  29.02657117],\n",
       "       [  12.33335102],\n",
       "       [  10.68462912],\n",
       "       [  29.6617537 ],\n",
       "       [  15.39209058],\n",
       "       [  12.31751236],\n",
       "       [  12.79351928],\n",
       "       [  13.23996134],\n",
       "       [ 140.33123223],\n",
       "       [  57.34004028],\n",
       "       [  14.9634683 ],\n",
       "       [  46.59448139],\n",
       "       [ 389.08893668],\n",
       "       [  73.3161884 ],\n",
       "       [  14.63289465],\n",
       "       [  38.16220732],\n",
       "       [ 120.62969152],\n",
       "       [  27.53727014],\n",
       "       [  13.2431801 ],\n",
       "       [  93.46548255],\n",
       "       [   9.65817626],\n",
       "       [ 615.03236093],\n",
       "       [  12.33842307],\n",
       "       [  13.21533113],\n",
       "       [  12.25055735],\n",
       "       [  13.6548935 ],\n",
       "       [  24.41021095],\n",
       "       [  13.00372987],\n",
       "       [  12.24252367],\n",
       "       [  12.28656986],\n",
       "       [  62.89496566],\n",
       "       [  12.4297403 ],\n",
       "       [  16.21757531],\n",
       "       [  54.33417193],\n",
       "       [  59.45987234],\n",
       "       [  39.84049869],\n",
       "       [ 254.70978924],\n",
       "       [  27.62428552],\n",
       "       [  86.21335936],\n",
       "       [  37.93487842],\n",
       "       [  12.24252367],\n",
       "       [  14.54930566],\n",
       "       [  12.49457881],\n",
       "       [  12.39608315],\n",
       "       [  47.75594435],\n",
       "       [  29.53646813],\n",
       "       [   9.48484272],\n",
       "       [  12.33335102],\n",
       "       [  13.01487494],\n",
       "       [ 600.29666903],\n",
       "       [   5.94028936],\n",
       "       [   8.60917419],\n",
       "       [  -0.64828194],\n",
       "       [  15.88735938],\n",
       "       [  36.26156703],\n",
       "       [ 217.06289927],\n",
       "       [  12.54899101],\n",
       "       [  16.68252585],\n",
       "       [ 366.59967204],\n",
       "       [  12.26999638],\n",
       "       [  58.89306482],\n",
       "       [  16.74656796],\n",
       "       [  10.8953588 ],\n",
       "       [  12.14526694],\n",
       "       [  11.41946491],\n",
       "       [ 114.79915821],\n",
       "       [  15.16020524],\n",
       "       [ 532.93247661],\n",
       "       [  13.8335854 ],\n",
       "       [  16.63854146],\n",
       "       [ 367.23776279],\n",
       "       [ 309.81959526],\n",
       "       [ 177.52879499],\n",
       "       [   2.53582133],\n",
       "       [   7.424068  ],\n",
       "       [-194.15846944],\n",
       "       [  39.48181943],\n",
       "       [ 139.87074421],\n",
       "       [  19.68490475],\n",
       "       [  12.27395605],\n",
       "       [   9.82858512],\n",
       "       [  -2.34221079],\n",
       "       [  30.61312476],\n",
       "       [  14.49315465],\n",
       "       [ 106.6591936 ],\n",
       "       [ 481.6031366 ],\n",
       "       [  12.55718711],\n",
       "       [  12.67325089],\n",
       "       [ 133.94652847],\n",
       "       [   6.92117326],\n",
       "       [  12.4649706 ],\n",
       "       [  14.1782968 ],\n",
       "       [  12.15624056],\n",
       "       [  12.72408371],\n",
       "       [  13.23610863],\n",
       "       [  17.84012079],\n",
       "       [  -1.41610761],\n",
       "       [   9.54919744],\n",
       "       [  12.4291178 ],\n",
       "       [  12.25599612],\n",
       "       [  16.23795808],\n",
       "       [  31.21261414],\n",
       "       [  12.33335102],\n",
       "       [  14.29938221],\n",
       "       [ 554.13897817],\n",
       "       [  29.54243836],\n",
       "       [   9.24539322],\n",
       "       [ 350.29804454],\n",
       "       [  11.35543761],\n",
       "       [  10.01931833],\n",
       "       [  12.5815649 ],\n",
       "       [  78.05978668],\n",
       "       [ 308.58336305],\n",
       "       [  74.49405957],\n",
       "       [  51.54147569],\n",
       "       [  12.71915309],\n",
       "       [  11.97282793],\n",
       "       [  72.93523967],\n",
       "       [ 160.48259814],\n",
       "       [  42.79238323],\n",
       "       [  -4.06463644],\n",
       "       [  19.49095801],\n",
       "       [   7.12865573],\n",
       "       [  76.44784968],\n",
       "       [  20.94812584],\n",
       "       [  19.09530852],\n",
       "       [  12.53046073],\n",
       "       [  41.44679266],\n",
       "       [   7.74088639],\n",
       "       [ 239.87016926],\n",
       "       [  12.14835035],\n",
       "       [  12.21095866],\n",
       "       [  15.03527409],\n",
       "       [ 270.73128109],\n",
       "       [  43.81361572],\n",
       "       [  12.29684659],\n",
       "       [ 171.06997888],\n",
       "       [  41.46634087],\n",
       "       [  12.42774287],\n",
       "       [  81.04343971],\n",
       "       [  22.75713945],\n",
       "       [   3.63615412],\n",
       "       [  31.03318559],\n",
       "       [ 490.5964367 ],\n",
       "       [  12.50719871],\n",
       "       [  12.39608315],\n",
       "       [  12.12546861],\n",
       "       [  15.01737173],\n",
       "       [  14.65559291],\n",
       "       [ -18.71642486],\n",
       "       [  13.50054409],\n",
       "       [  18.18231445],\n",
       "       [ 117.83564015],\n",
       "       [  59.39937071],\n",
       "       [  12.10349688],\n",
       "       [  20.87715602],\n",
       "       [  19.16330728],\n",
       "       [  44.11898161],\n",
       "       [ 499.34325458],\n",
       "       [  12.29584652]])"
      ]
     },
     "execution_count": 39,
     "metadata": {},
     "output_type": "execute_result"
    }
   ],
   "source": [
    "prediction"
   ]
  },
  {
   "cell_type": "code",
   "execution_count": 40,
   "metadata": {},
   "outputs": [
    {
     "data": {
      "text/html": [
       "<div>\n",
       "<style scoped>\n",
       "    .dataframe tbody tr th:only-of-type {\n",
       "        vertical-align: middle;\n",
       "    }\n",
       "\n",
       "    .dataframe tbody tr th {\n",
       "        vertical-align: top;\n",
       "    }\n",
       "\n",
       "    .dataframe thead th {\n",
       "        text-align: right;\n",
       "    }\n",
       "</style>\n",
       "<table border=\"1\" class=\"dataframe\">\n",
       "  <thead>\n",
       "    <tr style=\"text-align: right;\">\n",
       "      <th></th>\n",
       "      <th>Expired</th>\n",
       "    </tr>\n",
       "  </thead>\n",
       "  <tbody>\n",
       "    <tr>\n",
       "      <th>304</th>\n",
       "      <td>74</td>\n",
       "    </tr>\n",
       "    <tr>\n",
       "      <th>344</th>\n",
       "      <td>3</td>\n",
       "    </tr>\n",
       "    <tr>\n",
       "      <th>488</th>\n",
       "      <td>277</td>\n",
       "    </tr>\n",
       "    <tr>\n",
       "      <th>429</th>\n",
       "      <td>5</td>\n",
       "    </tr>\n",
       "    <tr>\n",
       "      <th>0</th>\n",
       "      <td>0</td>\n",
       "    </tr>\n",
       "    <tr>\n",
       "      <th>...</th>\n",
       "      <td>...</td>\n",
       "    </tr>\n",
       "    <tr>\n",
       "      <th>98</th>\n",
       "      <td>0</td>\n",
       "    </tr>\n",
       "    <tr>\n",
       "      <th>135</th>\n",
       "      <td>3</td>\n",
       "    </tr>\n",
       "    <tr>\n",
       "      <th>319</th>\n",
       "      <td>65</td>\n",
       "    </tr>\n",
       "    <tr>\n",
       "      <th>586</th>\n",
       "      <td>481</td>\n",
       "    </tr>\n",
       "    <tr>\n",
       "      <th>172</th>\n",
       "      <td>0</td>\n",
       "    </tr>\n",
       "  </tbody>\n",
       "</table>\n",
       "<p>193 rows × 1 columns</p>\n",
       "</div>"
      ],
      "text/plain": [
       "     Expired\n",
       "304       74\n",
       "344        3\n",
       "488      277\n",
       "429        5\n",
       "0          0\n",
       "..       ...\n",
       "98         0\n",
       "135        3\n",
       "319       65\n",
       "586      481\n",
       "172        0\n",
       "\n",
       "[193 rows x 1 columns]"
      ]
     },
     "execution_count": 40,
     "metadata": {},
     "output_type": "execute_result"
    }
   ],
   "source": [
    "y_test"
   ]
  },
  {
   "cell_type": "code",
   "execution_count": 41,
   "metadata": {},
   "outputs": [
    {
     "data": {
      "text/plain": [
       "<matplotlib.collections.PathCollection at 0x175e763cb88>"
      ]
     },
     "execution_count": 41,
     "metadata": {},
     "output_type": "execute_result"
    },
    {
     "data": {
      "image/png": "[encoded data removed]",
      "text/plain": [
       "<Figure size 432x288 with 1 Axes>"
      ]
     },
     "metadata": {
      "needs_background": "light"
     },
     "output_type": "display_data"
    }
   ],
   "source": [
    "plt.scatter(y_test,prediction)"
   ]
  },
  {
   "cell_type": "code",
   "execution_count": null,
   "metadata": {},
   "outputs": [],
   "source": []
  }
 ],
 "metadata": {
  "kernelspec": {
   "display_name": "Python 3",
   "language": "python",
   "name": "python3"
  },
  "language_info": {
   "codemirror_mode": {
    "name": "ipython",
    "version": 3
   },
   "file_extension": ".py",
   "mimetype": "text/x-python",
   "name": "python",
   "nbconvert_exporter": "python",
   "pygments_lexer": "ipython3",
   "version": "3.7.6"
  }
 },
 "nbformat": 4,
 "nbformat_minor": 4
}
