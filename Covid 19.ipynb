{
 "cells": [
  {
   "cell_type": "code",
   "execution_count": 1,
   "metadata": {},
   "outputs": [],
   "source": [
    "import numpy as np\n",
    "import pandas as pd\n",
    "import matplotlib.pyplot as plt\n",
    "import seaborn as sns"
   ]
  },
  {
   "cell_type": "code",
   "execution_count": null,
   "metadata": {},
   "outputs": [],
   "source": []
  },
  {
   "cell_type": "code",
   "execution_count": 3,
   "metadata": {},
   "outputs": [],
   "source": [
    "fileName=\"COVID_FINAL_DATA.csv\"\n",
    "data=pd.read_csv(fileName)"
   ]
  },
  {
   "cell_type": "code",
   "execution_count": null,
   "metadata": {},
   "outputs": [],
   "source": []
  },
  {
   "cell_type": "code",
   "execution_count": 4,
   "metadata": {},
   "outputs": [
    {
     "data": {
      "text/html": [
       "<div>\n",
       "<style scoped>\n",
       "    .dataframe tbody tr th:only-of-type {\n",
       "        vertical-align: middle;\n",
       "    }\n",
       "\n",
       "    .dataframe tbody tr th {\n",
       "        vertical-align: top;\n",
       "    }\n",
       "\n",
       "    .dataframe thead th {\n",
       "        text-align: right;\n",
       "    }\n",
       "</style>\n",
       "<table border=\"1\" class=\"dataframe\">\n",
       "  <thead>\n",
       "    <tr style=\"text-align: right;\">\n",
       "      <th></th>\n",
       "      <th>Unnamed: 0</th>\n",
       "      <th>Cumulative</th>\n",
       "      <th>Cumulative  Test positive</th>\n",
       "      <th>Cumulative  tests performed</th>\n",
       "      <th>Date</th>\n",
       "      <th>Discharged</th>\n",
       "      <th>Expired</th>\n",
       "      <th>Home Quarantine</th>\n",
       "      <th>New  (last 24 hrs)</th>\n",
       "      <th>Region</th>\n",
       "      <th>Still admitted</th>\n",
       "      <th>Tests  performed in last 24 hours</th>\n",
       "    </tr>\n",
       "  </thead>\n",
       "  <tbody>\n",
       "    <tr>\n",
       "      <th>0</th>\n",
       "      <td>4</td>\n",
       "      <td>48</td>\n",
       "      <td>2</td>\n",
       "      <td>80</td>\n",
       "      <td>3/11/2020</td>\n",
       "      <td>0</td>\n",
       "      <td>0</td>\n",
       "      <td>NaN</td>\n",
       "      <td>3</td>\n",
       "      <td>ICT</td>\n",
       "      <td>2</td>\n",
       "      <td>8</td>\n",
       "    </tr>\n",
       "    <tr>\n",
       "      <th>1</th>\n",
       "      <td>5</td>\n",
       "      <td>61</td>\n",
       "      <td>0</td>\n",
       "      <td>95</td>\n",
       "      <td>3/11/2020</td>\n",
       "      <td>0</td>\n",
       "      <td>0</td>\n",
       "      <td>NaN</td>\n",
       "      <td>6</td>\n",
       "      <td>Punjab</td>\n",
       "      <td>0</td>\n",
       "      <td>7</td>\n",
       "    </tr>\n",
       "    <tr>\n",
       "      <th>2</th>\n",
       "      <td>6</td>\n",
       "      <td>84</td>\n",
       "      <td>14</td>\n",
       "      <td>171</td>\n",
       "      <td>3/11/2020</td>\n",
       "      <td>1</td>\n",
       "      <td>0</td>\n",
       "      <td>NaN</td>\n",
       "      <td>1</td>\n",
       "      <td>Sindh</td>\n",
       "      <td>13</td>\n",
       "      <td>55</td>\n",
       "    </tr>\n",
       "    <tr>\n",
       "      <th>3</th>\n",
       "      <td>7</td>\n",
       "      <td>20</td>\n",
       "      <td>0</td>\n",
       "      <td>28</td>\n",
       "      <td>3/11/2020</td>\n",
       "      <td>0</td>\n",
       "      <td>0</td>\n",
       "      <td>NaN</td>\n",
       "      <td>0</td>\n",
       "      <td>KP</td>\n",
       "      <td>0</td>\n",
       "      <td>2</td>\n",
       "    </tr>\n",
       "    <tr>\n",
       "      <th>4</th>\n",
       "      <td>8</td>\n",
       "      <td>3</td>\n",
       "      <td>0</td>\n",
       "      <td>0</td>\n",
       "      <td>3/11/2020</td>\n",
       "      <td>0</td>\n",
       "      <td>0</td>\n",
       "      <td>NaN</td>\n",
       "      <td>0</td>\n",
       "      <td>KPTD</td>\n",
       "      <td>0</td>\n",
       "      <td>0</td>\n",
       "    </tr>\n",
       "    <tr>\n",
       "      <th>5</th>\n",
       "      <td>9</td>\n",
       "      <td>19</td>\n",
       "      <td>1</td>\n",
       "      <td>18</td>\n",
       "      <td>3/11/2020</td>\n",
       "      <td>0</td>\n",
       "      <td>0</td>\n",
       "      <td>NaN</td>\n",
       "      <td>4</td>\n",
       "      <td>Balochistan</td>\n",
       "      <td>1</td>\n",
       "      <td>4</td>\n",
       "    </tr>\n",
       "    <tr>\n",
       "      <th>6</th>\n",
       "      <td>10</td>\n",
       "      <td>3</td>\n",
       "      <td>0</td>\n",
       "      <td>4</td>\n",
       "      <td>3/11/2020</td>\n",
       "      <td>0</td>\n",
       "      <td>0</td>\n",
       "      <td>NaN</td>\n",
       "      <td>0</td>\n",
       "      <td>AJK</td>\n",
       "      <td>0</td>\n",
       "      <td>0</td>\n",
       "    </tr>\n",
       "    <tr>\n",
       "      <th>7</th>\n",
       "      <td>11</td>\n",
       "      <td>10</td>\n",
       "      <td>2</td>\n",
       "      <td>26</td>\n",
       "      <td>3/11/2020</td>\n",
       "      <td>0</td>\n",
       "      <td>0</td>\n",
       "      <td>NaN</td>\n",
       "      <td>0</td>\n",
       "      <td>GB</td>\n",
       "      <td>2</td>\n",
       "      <td>4</td>\n",
       "    </tr>\n",
       "    <tr>\n",
       "      <th>8</th>\n",
       "      <td>4</td>\n",
       "      <td>52</td>\n",
       "      <td>2</td>\n",
       "      <td>85</td>\n",
       "      <td>3/12/2020</td>\n",
       "      <td>0</td>\n",
       "      <td>0</td>\n",
       "      <td>NaN</td>\n",
       "      <td>4</td>\n",
       "      <td>ICT</td>\n",
       "      <td>2</td>\n",
       "      <td>5</td>\n",
       "    </tr>\n",
       "    <tr>\n",
       "      <th>9</th>\n",
       "      <td>5</td>\n",
       "      <td>67</td>\n",
       "      <td>0</td>\n",
       "      <td>105</td>\n",
       "      <td>3/12/2020</td>\n",
       "      <td>0</td>\n",
       "      <td>0</td>\n",
       "      <td>NaN</td>\n",
       "      <td>6</td>\n",
       "      <td>Punjab</td>\n",
       "      <td>0</td>\n",
       "      <td>10</td>\n",
       "    </tr>\n",
       "    <tr>\n",
       "      <th>10</th>\n",
       "      <td>6</td>\n",
       "      <td>89</td>\n",
       "      <td>14</td>\n",
       "      <td>198</td>\n",
       "      <td>3/12/2020</td>\n",
       "      <td>2</td>\n",
       "      <td>0</td>\n",
       "      <td>NaN</td>\n",
       "      <td>5</td>\n",
       "      <td>Sindh</td>\n",
       "      <td>12</td>\n",
       "      <td>27</td>\n",
       "    </tr>\n",
       "    <tr>\n",
       "      <th>11</th>\n",
       "      <td>7</td>\n",
       "      <td>24</td>\n",
       "      <td>0</td>\n",
       "      <td>29</td>\n",
       "      <td>3/12/2020</td>\n",
       "      <td>0</td>\n",
       "      <td>0</td>\n",
       "      <td>NaN</td>\n",
       "      <td>4</td>\n",
       "      <td>KP</td>\n",
       "      <td>0</td>\n",
       "      <td>1</td>\n",
       "    </tr>\n",
       "    <tr>\n",
       "      <th>12</th>\n",
       "      <td>8</td>\n",
       "      <td>3</td>\n",
       "      <td>0</td>\n",
       "      <td>0</td>\n",
       "      <td>3/12/2020</td>\n",
       "      <td>0</td>\n",
       "      <td>0</td>\n",
       "      <td>NaN</td>\n",
       "      <td>0</td>\n",
       "      <td>KPTD</td>\n",
       "      <td>0</td>\n",
       "      <td>0</td>\n",
       "    </tr>\n",
       "    <tr>\n",
       "      <th>13</th>\n",
       "      <td>9</td>\n",
       "      <td>23</td>\n",
       "      <td>1</td>\n",
       "      <td>18</td>\n",
       "      <td>3/12/2020</td>\n",
       "      <td>0</td>\n",
       "      <td>0</td>\n",
       "      <td>NaN</td>\n",
       "      <td>4</td>\n",
       "      <td>Balochistan</td>\n",
       "      <td>1</td>\n",
       "      <td>4</td>\n",
       "    </tr>\n",
       "    <tr>\n",
       "      <th>14</th>\n",
       "      <td>10</td>\n",
       "      <td>3</td>\n",
       "      <td>0</td>\n",
       "      <td>8</td>\n",
       "      <td>3/12/2020</td>\n",
       "      <td>0</td>\n",
       "      <td>0</td>\n",
       "      <td>NaN</td>\n",
       "      <td>0</td>\n",
       "      <td>AJK</td>\n",
       "      <td>0</td>\n",
       "      <td>4</td>\n",
       "    </tr>\n",
       "  </tbody>\n",
       "</table>\n",
       "</div>"
      ],
      "text/plain": [
       "    Unnamed: 0  Cumulative  Cumulative  Test positive  \\\n",
       "0            4          48                          2   \n",
       "1            5          61                          0   \n",
       "2            6          84                         14   \n",
       "3            7          20                          0   \n",
       "4            8           3                          0   \n",
       "5            9          19                          1   \n",
       "6           10           3                          0   \n",
       "7           11          10                          2   \n",
       "8            4          52                          2   \n",
       "9            5          67                          0   \n",
       "10           6          89                         14   \n",
       "11           7          24                          0   \n",
       "12           8           3                          0   \n",
       "13           9          23                          1   \n",
       "14          10           3                          0   \n",
       "\n",
       "    Cumulative  tests performed       Date  Discharged  Expired  \\\n",
       "0                            80  3/11/2020           0        0   \n",
       "1                            95  3/11/2020           0        0   \n",
       "2                           171  3/11/2020           1        0   \n",
       "3                            28  3/11/2020           0        0   \n",
       "4                             0  3/11/2020           0        0   \n",
       "5                            18  3/11/2020           0        0   \n",
       "6                             4  3/11/2020           0        0   \n",
       "7                            26  3/11/2020           0        0   \n",
       "8                            85  3/12/2020           0        0   \n",
       "9                           105  3/12/2020           0        0   \n",
       "10                          198  3/12/2020           2        0   \n",
       "11                           29  3/12/2020           0        0   \n",
       "12                            0  3/12/2020           0        0   \n",
       "13                           18  3/12/2020           0        0   \n",
       "14                            8  3/12/2020           0        0   \n",
       "\n",
       "    Home Quarantine  New  (last 24 hrs)       Region  Still admitted  \\\n",
       "0               NaN                   3          ICT               2   \n",
       "1               NaN                   6       Punjab               0   \n",
       "2               NaN                   1        Sindh              13   \n",
       "3               NaN                   0           KP               0   \n",
       "4               NaN                   0         KPTD               0   \n",
       "5               NaN                   4  Balochistan               1   \n",
       "6               NaN                   0          AJK               0   \n",
       "7               NaN                   0           GB               2   \n",
       "8               NaN                   4          ICT               2   \n",
       "9               NaN                   6       Punjab               0   \n",
       "10              NaN                   5        Sindh              12   \n",
       "11              NaN                   4           KP               0   \n",
       "12              NaN                   0         KPTD               0   \n",
       "13              NaN                   4  Balochistan               1   \n",
       "14              NaN                   0          AJK               0   \n",
       "\n",
       "   Tests  performed in last 24 hours  \n",
       "0                                  8  \n",
       "1                                  7  \n",
       "2                                 55  \n",
       "3                                  2  \n",
       "4                                  0  \n",
       "5                                  4  \n",
       "6                                  0  \n",
       "7                                  4  \n",
       "8                                  5  \n",
       "9                                 10  \n",
       "10                                27  \n",
       "11                                 1  \n",
       "12                                 0  \n",
       "13                                 4  \n",
       "14                                 4  "
      ]
     },
     "execution_count": 4,
     "metadata": {},
     "output_type": "execute_result"
    }
   ],
   "source": [
    "data.head(15)"
   ]
  },
  {
   "cell_type": "code",
   "execution_count": 22,
   "metadata": {},
   "outputs": [
    {
     "data": {
      "text/html": [
       "<div>\n",
       "<style scoped>\n",
       "    .dataframe tbody tr th:only-of-type {\n",
       "        vertical-align: middle;\n",
       "    }\n",
       "\n",
       "    .dataframe tbody tr th {\n",
       "        vertical-align: top;\n",
       "    }\n",
       "\n",
       "    .dataframe thead th {\n",
       "        text-align: right;\n",
       "    }\n",
       "</style>\n",
       "<table border=\"1\" class=\"dataframe\">\n",
       "  <thead>\n",
       "    <tr style=\"text-align: right;\">\n",
       "      <th></th>\n",
       "      <th>Unnamed: 0</th>\n",
       "      <th>Cumulative</th>\n",
       "      <th>Cumulative  Test positive</th>\n",
       "      <th>Cumulative  tests performed</th>\n",
       "      <th>Date</th>\n",
       "      <th>Discharged</th>\n",
       "      <th>Expired</th>\n",
       "      <th>Home Quarantine</th>\n",
       "      <th>New  (last 24 hrs)</th>\n",
       "      <th>Region</th>\n",
       "      <th>Still admitted</th>\n",
       "      <th>Tests  performed in last 24 hours</th>\n",
       "    </tr>\n",
       "  </thead>\n",
       "  <tbody>\n",
       "    <tr>\n",
       "      <th>0</th>\n",
       "      <td>4</td>\n",
       "      <td>48</td>\n",
       "      <td>2</td>\n",
       "      <td>80</td>\n",
       "      <td>3/11/2020</td>\n",
       "      <td>0</td>\n",
       "      <td>0</td>\n",
       "      <td>0</td>\n",
       "      <td>3</td>\n",
       "      <td>ICT</td>\n",
       "      <td>2</td>\n",
       "      <td>8</td>\n",
       "    </tr>\n",
       "    <tr>\n",
       "      <th>1</th>\n",
       "      <td>5</td>\n",
       "      <td>61</td>\n",
       "      <td>0</td>\n",
       "      <td>95</td>\n",
       "      <td>3/11/2020</td>\n",
       "      <td>0</td>\n",
       "      <td>0</td>\n",
       "      <td>0</td>\n",
       "      <td>6</td>\n",
       "      <td>Punjab</td>\n",
       "      <td>0</td>\n",
       "      <td>7</td>\n",
       "    </tr>\n",
       "    <tr>\n",
       "      <th>2</th>\n",
       "      <td>6</td>\n",
       "      <td>84</td>\n",
       "      <td>14</td>\n",
       "      <td>171</td>\n",
       "      <td>3/11/2020</td>\n",
       "      <td>1</td>\n",
       "      <td>0</td>\n",
       "      <td>0</td>\n",
       "      <td>1</td>\n",
       "      <td>Sindh</td>\n",
       "      <td>13</td>\n",
       "      <td>55</td>\n",
       "    </tr>\n",
       "    <tr>\n",
       "      <th>3</th>\n",
       "      <td>7</td>\n",
       "      <td>20</td>\n",
       "      <td>0</td>\n",
       "      <td>28</td>\n",
       "      <td>3/11/2020</td>\n",
       "      <td>0</td>\n",
       "      <td>0</td>\n",
       "      <td>0</td>\n",
       "      <td>0</td>\n",
       "      <td>KP</td>\n",
       "      <td>0</td>\n",
       "      <td>2</td>\n",
       "    </tr>\n",
       "    <tr>\n",
       "      <th>4</th>\n",
       "      <td>8</td>\n",
       "      <td>3</td>\n",
       "      <td>0</td>\n",
       "      <td>0</td>\n",
       "      <td>3/11/2020</td>\n",
       "      <td>0</td>\n",
       "      <td>0</td>\n",
       "      <td>0</td>\n",
       "      <td>0</td>\n",
       "      <td>KPTD</td>\n",
       "      <td>0</td>\n",
       "      <td>0</td>\n",
       "    </tr>\n",
       "    <tr>\n",
       "      <th>...</th>\n",
       "      <td>...</td>\n",
       "      <td>...</td>\n",
       "      <td>...</td>\n",
       "      <td>...</td>\n",
       "      <td>...</td>\n",
       "      <td>...</td>\n",
       "      <td>...</td>\n",
       "      <td>...</td>\n",
       "      <td>...</td>\n",
       "      <td>...</td>\n",
       "      <td>...</td>\n",
       "      <td>...</td>\n",
       "    </tr>\n",
       "    <tr>\n",
       "      <th>638</th>\n",
       "      <td>8</td>\n",
       "      <td>10465</td>\n",
       "      <td>1030</td>\n",
       "      <td>10769</td>\n",
       "      <td>6/12/2020</td>\n",
       "      <td>673</td>\n",
       "      <td>15</td>\n",
       "      <td>294</td>\n",
       "      <td>76</td>\n",
       "      <td>GB</td>\n",
       "      <td>48</td>\n",
       "      <td>119</td>\n",
       "    </tr>\n",
       "    <tr>\n",
       "      <th>639</th>\n",
       "      <td>9</td>\n",
       "      <td>69806</td>\n",
       "      <td>6699</td>\n",
       "      <td>69806</td>\n",
       "      <td>6/12/2020</td>\n",
       "      <td>1164</td>\n",
       "      <td>65</td>\n",
       "      <td>5395</td>\n",
       "      <td>3766</td>\n",
       "      <td>ICT</td>\n",
       "      <td>75</td>\n",
       "      <td>3766</td>\n",
       "    </tr>\n",
       "    <tr>\n",
       "      <th>640</th>\n",
       "      <td>10</td>\n",
       "      <td>76035</td>\n",
       "      <td>15787</td>\n",
       "      <td>90470</td>\n",
       "      <td>6/12/2020</td>\n",
       "      <td>3907</td>\n",
       "      <td>632</td>\n",
       "      <td>10222</td>\n",
       "      <td>2398</td>\n",
       "      <td>KP</td>\n",
       "      <td>1026</td>\n",
       "      <td>3571</td>\n",
       "    </tr>\n",
       "    <tr>\n",
       "      <th>641</th>\n",
       "      <td>11</td>\n",
       "      <td>325091</td>\n",
       "      <td>47382</td>\n",
       "      <td>327072</td>\n",
       "      <td>6/12/2020</td>\n",
       "      <td>9546</td>\n",
       "      <td>890</td>\n",
       "      <td>34520</td>\n",
       "      <td>10116</td>\n",
       "      <td>Punjab</td>\n",
       "      <td>2426</td>\n",
       "      <td>9179</td>\n",
       "    </tr>\n",
       "    <tr>\n",
       "      <th>642</th>\n",
       "      <td>13</td>\n",
       "      <td>265698</td>\n",
       "      <td>46828</td>\n",
       "      <td>265698</td>\n",
       "      <td>6/12/2020</td>\n",
       "      <td>22047</td>\n",
       "      <td>776</td>\n",
       "      <td>22324</td>\n",
       "      <td>10081</td>\n",
       "      <td>Sindh</td>\n",
       "      <td>1681</td>\n",
       "      <td>10081</td>\n",
       "    </tr>\n",
       "  </tbody>\n",
       "</table>\n",
       "<p>643 rows × 12 columns</p>\n",
       "</div>"
      ],
      "text/plain": [
       "     Unnamed: 0  Cumulative  Cumulative  Test positive  \\\n",
       "0             4          48                          2   \n",
       "1             5          61                          0   \n",
       "2             6          84                         14   \n",
       "3             7          20                          0   \n",
       "4             8           3                          0   \n",
       "..          ...         ...                        ...   \n",
       "638           8       10465                       1030   \n",
       "639           9       69806                       6699   \n",
       "640          10       76035                      15787   \n",
       "641          11      325091                      47382   \n",
       "642          13      265698                      46828   \n",
       "\n",
       "     Cumulative  tests performed       Date  Discharged  Expired  \\\n",
       "0                             80  3/11/2020           0        0   \n",
       "1                             95  3/11/2020           0        0   \n",
       "2                            171  3/11/2020           1        0   \n",
       "3                             28  3/11/2020           0        0   \n",
       "4                              0  3/11/2020           0        0   \n",
       "..                           ...        ...         ...      ...   \n",
       "638                        10769  6/12/2020         673       15   \n",
       "639                        69806  6/12/2020        1164       65   \n",
       "640                        90470  6/12/2020        3907      632   \n",
       "641                       327072  6/12/2020        9546      890   \n",
       "642                       265698  6/12/2020       22047      776   \n",
       "\n",
       "     Home Quarantine  New  (last 24 hrs)  Region  Still admitted  \\\n",
       "0                  0                   3     ICT               2   \n",
       "1                  0                   6  Punjab               0   \n",
       "2                  0                   1   Sindh              13   \n",
       "3                  0                   0      KP               0   \n",
       "4                  0                   0    KPTD               0   \n",
       "..               ...                 ...     ...             ...   \n",
       "638              294                  76      GB              48   \n",
       "639             5395                3766     ICT              75   \n",
       "640            10222                2398      KP            1026   \n",
       "641            34520               10116  Punjab            2426   \n",
       "642            22324               10081   Sindh            1681   \n",
       "\n",
       "    Tests  performed in last 24 hours  \n",
       "0                                   8  \n",
       "1                                   7  \n",
       "2                                  55  \n",
       "3                                   2  \n",
       "4                                   0  \n",
       "..                                ...  \n",
       "638                               119  \n",
       "639                              3766  \n",
       "640                              3571  \n",
       "641                              9179  \n",
       "642                             10081  \n",
       "\n",
       "[643 rows x 12 columns]"
      ]
     },
     "execution_count": 22,
     "metadata": {},
     "output_type": "execute_result"
    }
   ],
   "source": [
    "data"
   ]
  },
  {
   "cell_type": "code",
   "execution_count": null,
   "metadata": {},
   "outputs": [],
   "source": []
  },
  {
   "cell_type": "code",
   "execution_count": null,
   "metadata": {},
   "outputs": [],
   "source": []
  },
  {
   "cell_type": "code",
   "execution_count": 5,
   "metadata": {},
   "outputs": [],
   "source": [
    "#Normalization\n",
    "data.replace(\"?\", np.nan, inplace=True)"
   ]
  },
  {
   "cell_type": "code",
   "execution_count": null,
   "metadata": {},
   "outputs": [],
   "source": []
  },
  {
   "cell_type": "code",
   "execution_count": 6,
   "metadata": {},
   "outputs": [],
   "source": [
    "missing_data=data.isnull()"
   ]
  },
  {
   "cell_type": "code",
   "execution_count": null,
   "metadata": {},
   "outputs": [],
   "source": []
  },
  {
   "cell_type": "code",
   "execution_count": 7,
   "metadata": {},
   "outputs": [
    {
     "data": {
      "text/plain": [
       "Unnamed: 0                             0\n",
       "Cumulative                             0\n",
       "Cumulative  Test positive              0\n",
       "Cumulative  tests performed            0\n",
       "Date                                   0\n",
       "Discharged                             0\n",
       "Expired                                0\n",
       "Home Quarantine                      139\n",
       "New  (last 24 hrs)                     0\n",
       "Region                                 0\n",
       "Still admitted                         0\n",
       "Tests  performed in last 24 hours      0\n",
       "dtype: int64"
      ]
     },
     "execution_count": 7,
     "metadata": {},
     "output_type": "execute_result"
    }
   ],
   "source": [
    "missing_data.sum()"
   ]
  },
  {
   "cell_type": "code",
   "execution_count": null,
   "metadata": {},
   "outputs": [],
   "source": []
  },
  {
   "cell_type": "code",
   "execution_count": 8,
   "metadata": {},
   "outputs": [],
   "source": [
    "frequency=data[\"Home Quarantine\"].value_counts().idxmax()"
   ]
  },
  {
   "cell_type": "code",
   "execution_count": null,
   "metadata": {},
   "outputs": [],
   "source": []
  },
  {
   "cell_type": "code",
   "execution_count": 9,
   "metadata": {},
   "outputs": [],
   "source": [
    "data[\"Home Quarantine\"].replace(np.nan,frequency,inplace=True)"
   ]
  },
  {
   "cell_type": "code",
   "execution_count": null,
   "metadata": {},
   "outputs": [],
   "source": []
  },
  {
   "cell_type": "code",
   "execution_count": 10,
   "metadata": {},
   "outputs": [
    {
     "data": {
      "text/plain": [
       "0"
      ]
     },
     "execution_count": 10,
     "metadata": {},
     "output_type": "execute_result"
    }
   ],
   "source": [
    "data[\"Home Quarantine\"].isnull().sum()"
   ]
  },
  {
   "cell_type": "code",
   "execution_count": null,
   "metadata": {},
   "outputs": [],
   "source": []
  },
  {
   "cell_type": "code",
   "execution_count": 11,
   "metadata": {},
   "outputs": [
    {
     "data": {
      "text/plain": [
       "Unnamed: 0                             int64\n",
       "Cumulative                             int64\n",
       "Cumulative  Test positive              int64\n",
       "Cumulative  tests performed            int64\n",
       "Date                                  object\n",
       "Discharged                             int64\n",
       "Expired                                int64\n",
       "Home Quarantine                      float64\n",
       "New  (last 24 hrs)                     int64\n",
       "Region                                object\n",
       "Still admitted                         int64\n",
       "Tests  performed in last 24 hours     object\n",
       "dtype: object"
      ]
     },
     "execution_count": 11,
     "metadata": {},
     "output_type": "execute_result"
    }
   ],
   "source": [
    "# Convert data type to proper format\n",
    "data.dtypes"
   ]
  },
  {
   "cell_type": "code",
   "execution_count": null,
   "metadata": {},
   "outputs": [],
   "source": []
  },
  {
   "cell_type": "code",
   "execution_count": 12,
   "metadata": {},
   "outputs": [],
   "source": [
    "data[\"Home Quarantine\"]=data[\"Home Quarantine\"].astype(\"int64\")"
   ]
  },
  {
   "cell_type": "code",
   "execution_count": null,
   "metadata": {},
   "outputs": [],
   "source": []
  },
  {
   "cell_type": "code",
   "execution_count": 13,
   "metadata": {},
   "outputs": [
    {
     "data": {
      "text/plain": [
       "Unnamed: 0                            int64\n",
       "Cumulative                            int64\n",
       "Cumulative  Test positive             int64\n",
       "Cumulative  tests performed           int64\n",
       "Date                                 object\n",
       "Discharged                            int64\n",
       "Expired                               int64\n",
       "Home Quarantine                       int64\n",
       "New  (last 24 hrs)                    int64\n",
       "Region                               object\n",
       "Still admitted                        int64\n",
       "Tests  performed in last 24 hours    object\n",
       "dtype: object"
      ]
     },
     "execution_count": 13,
     "metadata": {},
     "output_type": "execute_result"
    }
   ],
   "source": [
    "data.dtypes"
   ]
  },
  {
   "cell_type": "code",
   "execution_count": 22,
   "metadata": {},
   "outputs": [
    {
     "data": {
      "text/plain": [
       "<matplotlib.axes._subplots.AxesSubplot at 0x165a57c1d48>"
      ]
     },
     "execution_count": 22,
     "metadata": {},
     "output_type": "execute_result"
    },
    {
     "data": {
      "image/png": "[encoded data removed]",
      "text/plain": [
       "<Figure size 864x432 with 1 Axes>"
      ]
     },
     "metadata": {
      "needs_background": "light"
     },
     "output_type": "display_data"
    }
   ],
   "source": []
  },
  {
   "cell_type": "code",
   "execution_count": null,
   "metadata": {},
   "outputs": [],
   "source": []
  },
  {
   "cell_type": "code",
   "execution_count": 17,
   "metadata": {},
   "outputs": [
    {
     "data": {
      "text/plain": [
       "<matplotlib.axes._subplots.AxesSubplot at 0x1869e50>"
      ]
     },
     "execution_count": 17,
     "metadata": {},
     "output_type": "execute_result"
    },
    {
     "data": {
      "image/png": "[encoded data removed]",
      "text/plain": [
       "<Figure size 864x432 with 1 Axes>"
      ]
     },
     "metadata": {
      "needs_background": "light"
     },
     "output_type": "display_data"
    }
   ],
   "source": [
    "# Visualization\n",
    "plt.figure(figsize=(12,6))\n",
    "sns.barplot(x=\"Region\",y=\"Cumulative  Test positive\",data = data)"
   ]
  },
  {
   "cell_type": "code",
   "execution_count": 18,
   "metadata": {},
   "outputs": [
    {
     "data": {
      "text/plain": [
       "<matplotlib.axes._subplots.AxesSubplot at 0x1766718>"
      ]
     },
     "execution_count": 18,
     "metadata": {},
     "output_type": "execute_result"
    },
    {
     "data": {
      "image/png": "[encoded data removed]",
      "text/plain": [
       "<Figure size 864x432 with 1 Axes>"
      ]
     },
     "metadata": {
      "needs_background": "light"
     },
     "output_type": "display_data"
    }
   ],
   "source": [
    "# Graph between Region and No of Discharged People\n",
    "plt.figure(figsize=(12,6))\n",
    "sns.barplot(x=\"Region\",y=\"Discharged\",data = data)"
   ]
  },
  {
   "cell_type": "code",
   "execution_count": 19,
   "metadata": {},
   "outputs": [
    {
     "data": {
      "text/plain": [
       "<matplotlib.axes._subplots.AxesSubplot at 0x18e1478>"
      ]
     },
     "execution_count": 19,
     "metadata": {},
     "output_type": "execute_result"
    },
    {
     "data": {
      "image/png": "[encoded data removed]",
      "text/plain": [
       "<Figure size 864x432 with 1 Axes>"
      ]
     },
     "metadata": {
      "needs_background": "light"
     },
     "output_type": "display_data"
    }
   ],
   "source": [
    "# raph between Region and No of People Expired \n",
    "plt.figure(figsize=(12,6))\n",
    "sns.barplot(x=\"Region\",y=\"Expired\",data = data)"
   ]
  },
  {
   "cell_type": "code",
   "execution_count": 20,
   "metadata": {},
   "outputs": [
    {
     "data": {
      "text/plain": [
       "<matplotlib.axes._subplots.AxesSubplot at 0x3cf41c0>"
      ]
     },
     "execution_count": 20,
     "metadata": {},
     "output_type": "execute_result"
    },
    {
     "data": {
      "image/png": "[encoded data removed]",
      "text/plain": [
       "<Figure size 864x432 with 1 Axes>"
      ]
     },
     "metadata": {
      "needs_background": "light"
     },
     "output_type": "display_data"
    }
   ],
   "source": [
    "plt.figure(figsize=(12,6))\n",
    "sns.barplot(x=\"Region\",y=\"Home Quarantine\",data = data)"
   ]
  },
  {
   "cell_type": "code",
   "execution_count": 23,
   "metadata": {},
   "outputs": [
    {
     "data": {
      "text/plain": [
       "<matplotlib.axes._subplots.AxesSubplot at 0x165a73b92c8>"
      ]
     },
     "execution_count": 23,
     "metadata": {},
     "output_type": "execute_result"
    },
    {
     "data": {
      "image/png": "[encoded data removed]",
      "text/plain": [
       "<Figure size 432x288 with 1 Axes>"
      ]
     },
     "metadata": {
      "needs_background": "light"
     },
     "output_type": "display_data"
    }
   ],
   "source": [
    "sns.distplot(data[\"Expired\"])"
   ]
  },
  {
   "cell_type": "code",
   "execution_count": 24,
   "metadata": {},
   "outputs": [
    {
     "data": {
      "text/plain": [
       "<matplotlib.axes._subplots.AxesSubplot at 0x165a733b588>"
      ]
     },
     "execution_count": 24,
     "metadata": {},
     "output_type": "execute_result"
    },
    {
     "data": {
      "image/png": "[encoded data removed]",
      "text/plain": [
       "<Figure size 432x288 with 2 Axes>"
      ]
     },
     "metadata": {
      "needs_background": "light"
     },
     "output_type": "display_data"
    }
   ],
   "source": [
    "sns.heatmap(data.corr(),annot=True)"
   ]
  },
  {
   "cell_type": "code",
   "execution_count": null,
   "metadata": {},
   "outputs": [],
   "source": []
  },
  {
   "cell_type": "code",
   "execution_count": null,
   "metadata": {},
   "outputs": [],
   "source": []
  },
  {
   "cell_type": "code",
   "execution_count": null,
   "metadata": {},
   "outputs": [],
   "source": []
  }
 ],
 "metadata": {
  "kernelspec": {
   "display_name": "Python 3",
   "language": "python",
   "name": "python3"
  },
  "language_info": {
   "codemirror_mode": {
    "name": "ipython",
    "version": 3
   },
   "file_extension": ".py",
   "mimetype": "text/x-python",
   "name": "python",
   "nbconvert_exporter": "python",
   "pygments_lexer": "ipython3",
   "version": "3.7.6"
  }
 },
 "nbformat": 4,
 "nbformat_minor": 4
}
